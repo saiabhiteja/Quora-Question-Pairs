{
  "nbformat": 4,
  "nbformat_minor": 0,
  "metadata": {
    "kernelspec": {
      "display_name": "Python 3",
      "language": "python",
      "name": "python3"
    },
    "language_info": {
      "codemirror_mode": {
        "name": "ipython",
        "version": 3
      },
      "file_extension": ".py",
      "mimetype": "text/x-python",
      "name": "python",
      "nbconvert_exporter": "python",
      "pygments_lexer": "ipython3",
      "version": "3.8.3"
    },
    "colab": {
      "name": "word2vec.ipynb",
      "provenance": []
    }
  },
  "cells": [
    {
      "cell_type": "markdown",
      "metadata": {
        "id": "NaZoNrZCfXvy"
      },
      "source": [
        "<h2> 4.Featurizing text data with tfidf weighted word-vectors </h2>"
      ]
    },
    {
      "cell_type": "code",
      "metadata": {
        "colab": {
          "base_uri": "https://localhost:8080/"
        },
        "id": "Ue8HlQH-fXv0",
        "outputId": "970d320c-a1cc-4b80-8725-cb2592a9edb2"
      },
      "source": [
        "#importing useful libraries\n",
        "import math\n",
        "import numpy as np\n",
        "import pandas as pd\n",
        "import matplotlib.pyplot as plt\n",
        "import seaborn as sns\n",
        "import tensorflow as tf\n",
        "import plotly.express as px\n",
        "import plotly.graph_objects as go\n",
        "sns.color_palette('bright')\n",
        "sns.set(style='darkgrid',rc = {'figure.figsize':(15,8)})\n",
        "from plotly.offline import iplot\n",
        "from sklearn.pipeline import make_pipeline \n",
        "%matplotlib inline\n",
        "import os\n",
        "print(\"Ready,set,go....\")"
      ],
      "execution_count": 8,
      "outputs": [
        {
          "output_type": "stream",
          "text": [
            "Ready,set,go....\n"
          ],
          "name": "stdout"
        }
      ]
    },
    {
      "cell_type": "code",
      "metadata": {
        "colab": {
          "base_uri": "https://localhost:8080/"
        },
        "id": "iL4rugP_iRaO",
        "outputId": "56c1f03e-670c-4c69-f467-62b36a1bbe24"
      },
      "source": [
        "#geeting the current path\n",
        "print(os.getcwd())"
      ],
      "execution_count": 9,
      "outputs": [
        {
          "output_type": "stream",
          "text": [
            "/content\n"
          ],
          "name": "stdout"
        }
      ]
    },
    {
      "cell_type": "code",
      "metadata": {
        "id": "S5w_ZRjQfXv3"
      },
      "source": [
        "#reading data sets\n",
        "df = pd.read_csv('train.csv')"
      ],
      "execution_count": 10,
      "outputs": []
    },
    {
      "cell_type": "code",
      "metadata": {
        "colab": {
          "base_uri": "https://localhost:8080/",
          "height": 195
        },
        "id": "apQ3doPsfXv4",
        "outputId": "d32b9653-d170-44d7-abc1-1173ed90e2ec"
      },
      "source": [
        "#checking head\n",
        "df.head()"
      ],
      "execution_count": 11,
      "outputs": [
        {
          "output_type": "execute_result",
          "data": {
            "text/html": [
              "<div>\n",
              "<style scoped>\n",
              "    .dataframe tbody tr th:only-of-type {\n",
              "        vertical-align: middle;\n",
              "    }\n",
              "\n",
              "    .dataframe tbody tr th {\n",
              "        vertical-align: top;\n",
              "    }\n",
              "\n",
              "    .dataframe thead th {\n",
              "        text-align: right;\n",
              "    }\n",
              "</style>\n",
              "<table border=\"1\" class=\"dataframe\">\n",
              "  <thead>\n",
              "    <tr style=\"text-align: right;\">\n",
              "      <th></th>\n",
              "      <th>id</th>\n",
              "      <th>qid1</th>\n",
              "      <th>qid2</th>\n",
              "      <th>question1</th>\n",
              "      <th>question2</th>\n",
              "      <th>is_duplicate</th>\n",
              "    </tr>\n",
              "  </thead>\n",
              "  <tbody>\n",
              "    <tr>\n",
              "      <th>0</th>\n",
              "      <td>0</td>\n",
              "      <td>1</td>\n",
              "      <td>2</td>\n",
              "      <td>What is the step by step guide to invest in sh...</td>\n",
              "      <td>What is the step by step guide to invest in sh...</td>\n",
              "      <td>0</td>\n",
              "    </tr>\n",
              "    <tr>\n",
              "      <th>1</th>\n",
              "      <td>1</td>\n",
              "      <td>3</td>\n",
              "      <td>4</td>\n",
              "      <td>What is the story of Kohinoor (Koh-i-Noor) Dia...</td>\n",
              "      <td>What would happen if the Indian government sto...</td>\n",
              "      <td>0</td>\n",
              "    </tr>\n",
              "    <tr>\n",
              "      <th>2</th>\n",
              "      <td>2</td>\n",
              "      <td>5</td>\n",
              "      <td>6</td>\n",
              "      <td>How can I increase the speed of my internet co...</td>\n",
              "      <td>How can Internet speed be increased by hacking...</td>\n",
              "      <td>0</td>\n",
              "    </tr>\n",
              "    <tr>\n",
              "      <th>3</th>\n",
              "      <td>3</td>\n",
              "      <td>7</td>\n",
              "      <td>8</td>\n",
              "      <td>Why am I mentally very lonely? How can I solve...</td>\n",
              "      <td>Find the remainder when [math]23^{24}[/math] i...</td>\n",
              "      <td>0</td>\n",
              "    </tr>\n",
              "    <tr>\n",
              "      <th>4</th>\n",
              "      <td>4</td>\n",
              "      <td>9</td>\n",
              "      <td>10</td>\n",
              "      <td>Which one dissolve in water quikly sugar, salt...</td>\n",
              "      <td>Which fish would survive in salt water?</td>\n",
              "      <td>0</td>\n",
              "    </tr>\n",
              "  </tbody>\n",
              "</table>\n",
              "</div>"
            ],
            "text/plain": [
              "   id  qid1  ...                                          question2 is_duplicate\n",
              "0   0     1  ...  What is the step by step guide to invest in sh...            0\n",
              "1   1     3  ...  What would happen if the Indian government sto...            0\n",
              "2   2     5  ...  How can Internet speed be increased by hacking...            0\n",
              "3   3     7  ...  Find the remainder when [math]23^{24}[/math] i...            0\n",
              "4   4     9  ...            Which fish would survive in salt water?            0\n",
              "\n",
              "[5 rows x 6 columns]"
            ]
          },
          "metadata": {
            "tags": []
          },
          "execution_count": 11
        }
      ]
    },
    {
      "cell_type": "code",
      "metadata": {
        "colab": {
          "base_uri": "https://localhost:8080/"
        },
        "id": "nLmBz1D9fXv4",
        "outputId": "14c1d2a5-1dfe-41ec-9352-950036e21a6e"
      },
      "source": [
        "#checking info\n",
        "df.info()"
      ],
      "execution_count": 12,
      "outputs": [
        {
          "output_type": "stream",
          "text": [
            "<class 'pandas.core.frame.DataFrame'>\n",
            "RangeIndex: 404290 entries, 0 to 404289\n",
            "Data columns (total 6 columns):\n",
            " #   Column        Non-Null Count   Dtype \n",
            "---  ------        --------------   ----- \n",
            " 0   id            404290 non-null  int64 \n",
            " 1   qid1          404290 non-null  int64 \n",
            " 2   qid2          404290 non-null  int64 \n",
            " 3   question1     404289 non-null  object\n",
            " 4   question2     404288 non-null  object\n",
            " 5   is_duplicate  404290 non-null  int64 \n",
            "dtypes: int64(4), object(2)\n",
            "memory usage: 18.5+ MB\n"
          ],
          "name": "stdout"
        }
      ]
    },
    {
      "cell_type": "code",
      "metadata": {
        "id": "c1YCyTcPfXv5"
      },
      "source": [
        "# encoding question1 to get unicode\n",
        "df['question1'] = df['question1'].apply(lambda var: str(var))\n"
      ],
      "execution_count": 13,
      "outputs": []
    },
    {
      "cell_type": "code",
      "metadata": {
        "id": "Nq9cS2m3fXv6"
      },
      "source": [
        "# encoding question2 to get unicode\n",
        "df['question2'] = df['question2'].apply(lambda var: str(var))"
      ],
      "execution_count": 14,
      "outputs": []
    },
    {
      "cell_type": "code",
      "metadata": {
        "colab": {
          "base_uri": "https://localhost:8080/",
          "height": 195
        },
        "id": "HS0V51NMfXv7",
        "outputId": "3b04796f-059b-4c15-a8c4-5f692e39c5d2"
      },
      "source": [
        "#checking head after encoding\n",
        "df.head()"
      ],
      "execution_count": 15,
      "outputs": [
        {
          "output_type": "execute_result",
          "data": {
            "text/html": [
              "<div>\n",
              "<style scoped>\n",
              "    .dataframe tbody tr th:only-of-type {\n",
              "        vertical-align: middle;\n",
              "    }\n",
              "\n",
              "    .dataframe tbody tr th {\n",
              "        vertical-align: top;\n",
              "    }\n",
              "\n",
              "    .dataframe thead th {\n",
              "        text-align: right;\n",
              "    }\n",
              "</style>\n",
              "<table border=\"1\" class=\"dataframe\">\n",
              "  <thead>\n",
              "    <tr style=\"text-align: right;\">\n",
              "      <th></th>\n",
              "      <th>id</th>\n",
              "      <th>qid1</th>\n",
              "      <th>qid2</th>\n",
              "      <th>question1</th>\n",
              "      <th>question2</th>\n",
              "      <th>is_duplicate</th>\n",
              "    </tr>\n",
              "  </thead>\n",
              "  <tbody>\n",
              "    <tr>\n",
              "      <th>0</th>\n",
              "      <td>0</td>\n",
              "      <td>1</td>\n",
              "      <td>2</td>\n",
              "      <td>What is the step by step guide to invest in sh...</td>\n",
              "      <td>What is the step by step guide to invest in sh...</td>\n",
              "      <td>0</td>\n",
              "    </tr>\n",
              "    <tr>\n",
              "      <th>1</th>\n",
              "      <td>1</td>\n",
              "      <td>3</td>\n",
              "      <td>4</td>\n",
              "      <td>What is the story of Kohinoor (Koh-i-Noor) Dia...</td>\n",
              "      <td>What would happen if the Indian government sto...</td>\n",
              "      <td>0</td>\n",
              "    </tr>\n",
              "    <tr>\n",
              "      <th>2</th>\n",
              "      <td>2</td>\n",
              "      <td>5</td>\n",
              "      <td>6</td>\n",
              "      <td>How can I increase the speed of my internet co...</td>\n",
              "      <td>How can Internet speed be increased by hacking...</td>\n",
              "      <td>0</td>\n",
              "    </tr>\n",
              "    <tr>\n",
              "      <th>3</th>\n",
              "      <td>3</td>\n",
              "      <td>7</td>\n",
              "      <td>8</td>\n",
              "      <td>Why am I mentally very lonely? How can I solve...</td>\n",
              "      <td>Find the remainder when [math]23^{24}[/math] i...</td>\n",
              "      <td>0</td>\n",
              "    </tr>\n",
              "    <tr>\n",
              "      <th>4</th>\n",
              "      <td>4</td>\n",
              "      <td>9</td>\n",
              "      <td>10</td>\n",
              "      <td>Which one dissolve in water quikly sugar, salt...</td>\n",
              "      <td>Which fish would survive in salt water?</td>\n",
              "      <td>0</td>\n",
              "    </tr>\n",
              "  </tbody>\n",
              "</table>\n",
              "</div>"
            ],
            "text/plain": [
              "   id  qid1  ...                                          question2 is_duplicate\n",
              "0   0     1  ...  What is the step by step guide to invest in sh...            0\n",
              "1   1     3  ...  What would happen if the Indian government sto...            0\n",
              "2   2     5  ...  How can Internet speed be increased by hacking...            0\n",
              "3   3     7  ...  Find the remainder when [math]23^{24}[/math] i...            0\n",
              "4   4     9  ...            Which fish would survive in salt water?            0\n",
              "\n",
              "[5 rows x 6 columns]"
            ]
          },
          "metadata": {
            "tags": []
          },
          "execution_count": 15
        }
      ]
    },
    {
      "cell_type": "code",
      "metadata": {
        "colab": {
          "base_uri": "https://localhost:8080/"
        },
        "id": "2W2RNfpXfXv8",
        "outputId": "1e9718d5-7442-40b8-accc-d68366d30ce7"
      },
      "source": [
        "#checking info after encoding\n",
        "df.info()"
      ],
      "execution_count": 16,
      "outputs": [
        {
          "output_type": "stream",
          "text": [
            "<class 'pandas.core.frame.DataFrame'>\n",
            "RangeIndex: 404290 entries, 0 to 404289\n",
            "Data columns (total 6 columns):\n",
            " #   Column        Non-Null Count   Dtype \n",
            "---  ------        --------------   ----- \n",
            " 0   id            404290 non-null  int64 \n",
            " 1   qid1          404290 non-null  int64 \n",
            " 2   qid2          404290 non-null  int64 \n",
            " 3   question1     404290 non-null  object\n",
            " 4   question2     404290 non-null  object\n",
            " 5   is_duplicate  404290 non-null  int64 \n",
            "dtypes: int64(4), object(2)\n",
            "memory usage: 18.5+ MB\n"
          ],
          "name": "stdout"
        }
      ]
    },
    {
      "cell_type": "markdown",
      "metadata": {
        "id": "AJbRBoU6fXv9"
      },
      "source": [
        "<h3>4.1 Tfidfvectorizer and Countvectorizer"
      ]
    },
    {
      "cell_type": "markdown",
      "metadata": {
        "id": "itTPjhPpfXv9"
      },
      "source": [
        "<h4>References</h4>\n",
        "\n",
        "- https://scikit-learn.org/stable/modules/generated/sklearn.feature_extraction.text.TfidfVectorizer.html\n",
        "\n",
        "- https://scikit-learn.org/stable/modules/generated/sklearn.feature_extraction.text.CountVectorizer.html"
      ]
    },
    {
      "cell_type": "code",
      "metadata": {
        "id": "VsyucXhzfXv-"
      },
      "source": [
        "#importing useful libraries\n",
        "from sklearn.feature_extraction.text import TfidfVectorizer\n",
        "from sklearn.feature_extraction.text import CountVectorizer"
      ],
      "execution_count": 17,
      "outputs": []
    },
    {
      "cell_type": "code",
      "metadata": {
        "id": "zguZ3akPfXv_"
      },
      "source": [
        "# merging the texts\n",
        "questions = list(df['question1']) + list(df['question2'])"
      ],
      "execution_count": 18,
      "outputs": []
    },
    {
      "cell_type": "code",
      "metadata": {
        "id": "4x6Jv97CfXv_"
      },
      "source": [
        "#creating instance \n",
        "tfidf = TfidfVectorizer(lowercase=False )"
      ],
      "execution_count": 19,
      "outputs": []
    },
    {
      "cell_type": "code",
      "metadata": {
        "colab": {
          "base_uri": "https://localhost:8080/"
        },
        "id": "wh-Spcl-fXwA",
        "outputId": "6b2acab8-1514-4147-9e1e-ad15f9e57746"
      },
      "source": [
        "#fitting and transform for merging questions\n",
        "tfidf.fit_transform(questions)"
      ],
      "execution_count": 20,
      "outputs": [
        {
          "output_type": "execute_result",
          "data": {
            "text/plain": [
              "<808580x109679 sparse matrix of type '<class 'numpy.float64'>'\n",
              "\twith 8146555 stored elements in Compressed Sparse Row format>"
            ]
          },
          "metadata": {
            "tags": []
          },
          "execution_count": 20
        }
      ]
    },
    {
      "cell_type": "code",
      "metadata": {
        "colab": {
          "base_uri": "https://localhost:8080/",
          "height": 35
        },
        "id": "zlfV0o58fXwA",
        "outputId": "6d39caa1-007f-4e96-e9a6-3b3a670612e3"
      },
      "source": [
        "#checking the question\n",
        "questions[0]"
      ],
      "execution_count": 21,
      "outputs": [
        {
          "output_type": "execute_result",
          "data": {
            "application/vnd.google.colaboratory.intrinsic+json": {
              "type": "string"
            },
            "text/plain": [
              "'What is the step by step guide to invest in share market in india?'"
            ]
          },
          "metadata": {
            "tags": []
          },
          "execution_count": 21
        }
      ]
    },
    {
      "cell_type": "code",
      "metadata": {
        "id": "A7llGLzvfXwB"
      },
      "source": [
        "#creating dict key value:word and value:tf-idf scores\n",
        "word2tfidf = dict(zip(tfidf.get_feature_names(), tfidf.idf_))"
      ],
      "execution_count": 22,
      "outputs": []
    },
    {
      "cell_type": "markdown",
      "metadata": {
        "id": "pOKyIPWXfXwB"
      },
      "source": [
        "<h3>4.2 spacy</h3>"
      ]
    },
    {
      "cell_type": "markdown",
      "metadata": {
        "id": "5VB67e_SfXwB"
      },
      "source": [
        "<h4>References</h4>\n",
        "\n",
        "- https://spacy.io/usage/linguistic-features#vectors-similarity"
      ]
    },
    {
      "cell_type": "code",
      "metadata": {
        "id": "ZnXWMeeFfXwC"
      },
      "source": [
        "#importing spacy\n",
        "import spacy"
      ],
      "execution_count": 23,
      "outputs": []
    },
    {
      "cell_type": "code",
      "metadata": {
        "id": "7hUAGmKffXwC"
      },
      "source": [
        "# After finding the corresponding TF-IDF scores,converting each question to a weighted average of word2vec vectors by these scores.\n",
        "# en_vectors_web_lg, which includes over 1 million unique vectors.\n",
        "nlp = spacy.load('en_core_web_sm')\n",
        "#empty list \n",
        "vecs1 = []\n"
      ],
      "execution_count": 24,
      "outputs": []
    },
    {
      "cell_type": "markdown",
      "metadata": {
        "id": "QZIiQ5uhi0uD"
      },
      "source": [
        "<h4>Refernce</h4>\n",
        "\n",
        "-https://github.com/tqdm/tqdm"
      ]
    },
    {
      "cell_type": "code",
      "metadata": {
        "id": "ujmeidGEfXwD"
      },
      "source": [
        "#importing tqdm\n",
        "from tqdm import tqdm\n",
        "#tqdm is used for printing the progress bar"
      ],
      "execution_count": 28,
      "outputs": []
    },
    {
      "cell_type": "code",
      "metadata": {
        "colab": {
          "base_uri": "https://localhost:8080/"
        },
        "id": "9elhp4Z2irDj",
        "outputId": "e8457d25-3d07-4604-8f9f-256238bc7ed4"
      },
      "source": [
        "#method for vecs1\n",
        "for q1 in tqdm(list(df['question1'])):\n",
        "    doc1 = nlp(q1) \n",
        "    mean_vec1 = np.zeros([len(doc1), len(doc1[0].vector)])\n",
        "    for word1 in doc1:\n",
        "        # word2vec\n",
        "        vec1 = word1.vector\n",
        "        # fetch df score\n",
        "        try:\n",
        "            idf = word2tfidf[str(word1)]\n",
        "        except:\n",
        "            idf = 0\n",
        "        # compute final vec\n",
        "        mean_vec1 += vec1 * idf\n",
        "    #mean_vec1 = mean_vec1.mean(axis=0)\n",
        "    vecs1.append(mean_vec1)\n",
        "    \n",
        "df['q1_feats_m'] = list(vecs1)\n"
      ],
      "execution_count": 29,
      "outputs": [
        {
          "output_type": "stream",
          "text": [
            "100%|██████████| 404290/404290 [1:09:32<00:00, 96.90it/s]\n"
          ],
          "name": "stderr"
        }
      ]
    },
    {
      "cell_type": "code",
      "metadata": {
        "colab": {
          "base_uri": "https://localhost:8080/"
        },
        "id": "vMbi_QHxjpJe",
        "outputId": "ff5795a5-e0c9-4024-9c47-9a8f81ee63cf"
      },
      "source": [
        "#same for question2\n",
        "vecs2 = []\n",
        "for q2 in tqdm(list(df['question2'])):\n",
        "    doc2 = nlp(q2) \n",
        "    mean_vec2 = np.zeros([len(doc1), len(doc2[0].vector)])\n",
        "    for word2 in doc2:\n",
        "        # word2vec\n",
        "        vec2 = word2.vector\n",
        "        # fetch df score\n",
        "        try:\n",
        "            idf = word2tfidf[str(word2)]\n",
        "        except:\n",
        "            #print word\n",
        "            idf = 0\n",
        "        # compute final vec\n",
        "        mean_vec2 += vec2 * idf\n",
        "    mean_vec2 = mean_vec2.mean(axis=0)\n",
        "    vecs2.append(mean_vec2)\n",
        "df['q2_feats_m'] = list(vecs2)"
      ],
      "execution_count": 31,
      "outputs": [
        {
          "output_type": "stream",
          "text": [
            "100%|██████████| 404290/404290 [1:09:15<00:00, 97.28it/s]\n"
          ],
          "name": "stderr"
        }
      ]
    },
    {
      "cell_type": "code",
      "metadata": {
        "colab": {
          "base_uri": "https://localhost:8080/",
          "height": 279
        },
        "id": "4Vq4Fh5XEbW9",
        "outputId": "a07d05ce-2d0c-4e9d-bbaf-df88a8a14a6b"
      },
      "source": [
        "df.head()"
      ],
      "execution_count": 32,
      "outputs": [
        {
          "output_type": "execute_result",
          "data": {
            "text/html": [
              "<div>\n",
              "<style scoped>\n",
              "    .dataframe tbody tr th:only-of-type {\n",
              "        vertical-align: middle;\n",
              "    }\n",
              "\n",
              "    .dataframe tbody tr th {\n",
              "        vertical-align: top;\n",
              "    }\n",
              "\n",
              "    .dataframe thead th {\n",
              "        text-align: right;\n",
              "    }\n",
              "</style>\n",
              "<table border=\"1\" class=\"dataframe\">\n",
              "  <thead>\n",
              "    <tr style=\"text-align: right;\">\n",
              "      <th></th>\n",
              "      <th>id</th>\n",
              "      <th>qid1</th>\n",
              "      <th>qid2</th>\n",
              "      <th>question1</th>\n",
              "      <th>question2</th>\n",
              "      <th>is_duplicate</th>\n",
              "      <th>q1_feats_m</th>\n",
              "      <th>q2_feats_m</th>\n",
              "    </tr>\n",
              "  </thead>\n",
              "  <tbody>\n",
              "    <tr>\n",
              "      <th>0</th>\n",
              "      <td>0</td>\n",
              "      <td>1</td>\n",
              "      <td>2</td>\n",
              "      <td>What is the step by step guide to invest in sh...</td>\n",
              "      <td>What is the step by step guide to invest in sh...</td>\n",
              "      <td>0</td>\n",
              "      <td>[[-6.179506778717041, 37.45073118805885, -67.9...</td>\n",
              "      <td>[-14.616980731487274, 59.75548753142357, -53.2...</td>\n",
              "    </tr>\n",
              "    <tr>\n",
              "      <th>1</th>\n",
              "      <td>1</td>\n",
              "      <td>3</td>\n",
              "      <td>4</td>\n",
              "      <td>What is the story of Kohinoor (Koh-i-Noor) Dia...</td>\n",
              "      <td>What would happen if the Indian government sto...</td>\n",
              "      <td>0</td>\n",
              "      <td>[[9.236667931079865, -80.37141644954681, -45.7...</td>\n",
              "      <td>[-3.5657422859221697, -16.844570636749268, -13...</td>\n",
              "    </tr>\n",
              "    <tr>\n",
              "      <th>2</th>\n",
              "      <td>2</td>\n",
              "      <td>5</td>\n",
              "      <td>6</td>\n",
              "      <td>How can I increase the speed of my internet co...</td>\n",
              "      <td>How can Internet speed be increased by hacking...</td>\n",
              "      <td>0</td>\n",
              "      <td>[[97.54682850837708, 22.972195133566856, -39.5...</td>\n",
              "      <td>[156.8336295336485, 59.99189615249634, -8.4143...</td>\n",
              "    </tr>\n",
              "    <tr>\n",
              "      <th>3</th>\n",
              "      <td>3</td>\n",
              "      <td>7</td>\n",
              "      <td>8</td>\n",
              "      <td>Why am I mentally very lonely? How can I solve...</td>\n",
              "      <td>Find the remainder when [math]23^{24}[/math] i...</td>\n",
              "      <td>0</td>\n",
              "      <td>[[57.58699941635132, -22.017087638378143, -4.5...</td>\n",
              "      <td>[41.47243919968605, 56.71731689572334, 31.5306...</td>\n",
              "    </tr>\n",
              "    <tr>\n",
              "      <th>4</th>\n",
              "      <td>4</td>\n",
              "      <td>9</td>\n",
              "      <td>10</td>\n",
              "      <td>Which one dissolve in water quikly sugar, salt...</td>\n",
              "      <td>Which fish would survive in salt water?</td>\n",
              "      <td>0</td>\n",
              "      <td>[[83.1857842206955, -40.50698482990265, -83.40...</td>\n",
              "      <td>[-14.446974992752075, -4.33825546503067, -70.1...</td>\n",
              "    </tr>\n",
              "  </tbody>\n",
              "</table>\n",
              "</div>"
            ],
            "text/plain": [
              "   id  ...                                         q2_feats_m\n",
              "0   0  ...  [-14.616980731487274, 59.75548753142357, -53.2...\n",
              "1   1  ...  [-3.5657422859221697, -16.844570636749268, -13...\n",
              "2   2  ...  [156.8336295336485, 59.99189615249634, -8.4143...\n",
              "3   3  ...  [41.47243919968605, 56.71731689572334, 31.5306...\n",
              "4   4  ...  [-14.446974992752075, -4.33825546503067, -70.1...\n",
              "\n",
              "[5 rows x 8 columns]"
            ]
          },
          "metadata": {
            "tags": []
          },
          "execution_count": 32
        }
      ]
    },
    {
      "cell_type": "code",
      "metadata": {
        "id": "_WGLhOL8j4-w"
      },
      "source": [
        "#reading nlpfeatures dataframe\n",
        "df_nlp = pd.read_csv(\"Nlp_Featuresa.csv\",encoding='latin-1')"
      ],
      "execution_count": 34,
      "outputs": []
    },
    {
      "cell_type": "code",
      "metadata": {
        "id": "vnW8axm3k4aS"
      },
      "source": [
        "#reading for_A_fe.csv\n",
        "df_ppro = pd.read_csv(\"for_A_f_e.csv\",encoding='latin-1')"
      ],
      "execution_count": 36,
      "outputs": []
    },
    {
      "cell_type": "code",
      "metadata": {
        "id": "hzffKTBvou1g"
      },
      "source": [
        "df1 = df_nlp.drop(['qid1','qid2','question1','question2'],axis=1)\n"
      ],
      "execution_count": 37,
      "outputs": []
    },
    {
      "cell_type": "code",
      "metadata": {
        "id": "YjDliTuvo1iP"
      },
      "source": [
        "df2 = df_ppro.drop(['qid1','qid2','question1','question2','is_duplicate'],axis=1)"
      ],
      "execution_count": 38,
      "outputs": []
    },
    {
      "cell_type": "code",
      "metadata": {
        "id": "cxWLHBn9o9pH"
      },
      "source": [
        "df3 = df.drop(['qid1','qid2','question1','question2','is_duplicate'],axis=1)"
      ],
      "execution_count": 39,
      "outputs": []
    },
    {
      "cell_type": "code",
      "metadata": {
        "colab": {
          "base_uri": "https://localhost:8080/"
        },
        "id": "EnhbIN5GpB_G",
        "outputId": "3ea9fc52-93b5-4c48-a532-9c3aabcf7dec"
      },
      "source": [
        "df3_q1 = pd.DataFrame(df3.q1_feats_m.values.tolist(), index= df3.index)"
      ],
      "execution_count": 40,
      "outputs": [
        {
          "output_type": "stream",
          "text": [
            "/usr/local/lib/python3.7/dist-packages/pandas/core/internals/construction.py:305: VisibleDeprecationWarning:\n",
            "\n",
            "Creating an ndarray from ragged nested sequences (which is a list-or-tuple of lists-or-tuples-or ndarrays with different lengths or shapes) is deprecated. If you meant to do this, you must specify 'dtype=object' when creating the ndarray\n",
            "\n"
          ],
          "name": "stderr"
        }
      ]
    },
    {
      "cell_type": "code",
      "metadata": {
        "id": "XrJJemplpGk5"
      },
      "source": [
        "df3_q2 = pd.DataFrame(df3.q2_feats_m.values.tolist(), index= df3.index)"
      ],
      "execution_count": 41,
      "outputs": []
    },
    {
      "cell_type": "code",
      "metadata": {
        "colab": {
          "base_uri": "https://localhost:8080/",
          "height": 602
        },
        "id": "2nvfxX0ApOI9",
        "outputId": "e609e575-b28a-49ed-ef19-49e15c5c432d"
      },
      "source": [
        "#checking head\n",
        "df_nlp.head()"
      ],
      "execution_count": 42,
      "outputs": [
        {
          "output_type": "execute_result",
          "data": {
            "text/html": [
              "<div>\n",
              "<style scoped>\n",
              "    .dataframe tbody tr th:only-of-type {\n",
              "        vertical-align: middle;\n",
              "    }\n",
              "\n",
              "    .dataframe tbody tr th {\n",
              "        vertical-align: top;\n",
              "    }\n",
              "\n",
              "    .dataframe thead th {\n",
              "        text-align: right;\n",
              "    }\n",
              "</style>\n",
              "<table border=\"1\" class=\"dataframe\">\n",
              "  <thead>\n",
              "    <tr style=\"text-align: right;\">\n",
              "      <th></th>\n",
              "      <th>id</th>\n",
              "      <th>qid1</th>\n",
              "      <th>qid2</th>\n",
              "      <th>question1</th>\n",
              "      <th>question2</th>\n",
              "      <th>is_duplicate</th>\n",
              "      <th>common_word</th>\n",
              "      <th>Total_words</th>\n",
              "      <th>share_words</th>\n",
              "      <th>Q1len</th>\n",
              "      <th>Q2len</th>\n",
              "      <th>Q1_nwords</th>\n",
              "      <th>Q2_nwords</th>\n",
              "      <th>frequency_qid1</th>\n",
              "      <th>frequency_qid2</th>\n",
              "      <th>frequency_q1+q2</th>\n",
              "      <th>frequency_q1-q2</th>\n",
              "      <th>cwc_min</th>\n",
              "      <th>cwc_max</th>\n",
              "      <th>csc_min</th>\n",
              "      <th>csc_max</th>\n",
              "      <th>ctc_min</th>\n",
              "      <th>ctc_max</th>\n",
              "      <th>last_word_eq</th>\n",
              "      <th>first_word_eq</th>\n",
              "      <th>abs_len_diff</th>\n",
              "      <th>mean_len</th>\n",
              "      <th>token_set_ratio</th>\n",
              "      <th>token_sort_ratio</th>\n",
              "      <th>fuzz_ratio</th>\n",
              "      <th>fuzz_partial_ratio</th>\n",
              "      <th>longest_substr_ratio</th>\n",
              "    </tr>\n",
              "  </thead>\n",
              "  <tbody>\n",
              "    <tr>\n",
              "      <th>0</th>\n",
              "      <td>0</td>\n",
              "      <td>1</td>\n",
              "      <td>2</td>\n",
              "      <td>what is the step by step guide to invest in sh...</td>\n",
              "      <td>what is the step by step guide to invest in sh...</td>\n",
              "      <td>0</td>\n",
              "      <td>10.0</td>\n",
              "      <td>23.0</td>\n",
              "      <td>0.434783</td>\n",
              "      <td>66</td>\n",
              "      <td>57</td>\n",
              "      <td>14</td>\n",
              "      <td>12</td>\n",
              "      <td>1</td>\n",
              "      <td>1</td>\n",
              "      <td>2</td>\n",
              "      <td>0</td>\n",
              "      <td>0.999980</td>\n",
              "      <td>0.833319</td>\n",
              "      <td>0.999983</td>\n",
              "      <td>0.999983</td>\n",
              "      <td>0.916659</td>\n",
              "      <td>0.785709</td>\n",
              "      <td>0.0</td>\n",
              "      <td>1.0</td>\n",
              "      <td>2.0</td>\n",
              "      <td>13.0</td>\n",
              "      <td>100</td>\n",
              "      <td>93</td>\n",
              "      <td>93</td>\n",
              "      <td>100</td>\n",
              "      <td>0.982759</td>\n",
              "    </tr>\n",
              "    <tr>\n",
              "      <th>1</th>\n",
              "      <td>1</td>\n",
              "      <td>3</td>\n",
              "      <td>4</td>\n",
              "      <td>what is the story of kohinoor  koh i noor  dia...</td>\n",
              "      <td>what would happen if the indian government sto...</td>\n",
              "      <td>0</td>\n",
              "      <td>4.0</td>\n",
              "      <td>20.0</td>\n",
              "      <td>0.200000</td>\n",
              "      <td>51</td>\n",
              "      <td>88</td>\n",
              "      <td>8</td>\n",
              "      <td>13</td>\n",
              "      <td>4</td>\n",
              "      <td>1</td>\n",
              "      <td>5</td>\n",
              "      <td>3</td>\n",
              "      <td>0.799984</td>\n",
              "      <td>0.399996</td>\n",
              "      <td>0.749981</td>\n",
              "      <td>0.599988</td>\n",
              "      <td>0.699993</td>\n",
              "      <td>0.466664</td>\n",
              "      <td>0.0</td>\n",
              "      <td>1.0</td>\n",
              "      <td>5.0</td>\n",
              "      <td>12.5</td>\n",
              "      <td>86</td>\n",
              "      <td>63</td>\n",
              "      <td>66</td>\n",
              "      <td>75</td>\n",
              "      <td>0.596154</td>\n",
              "    </tr>\n",
              "    <tr>\n",
              "      <th>2</th>\n",
              "      <td>2</td>\n",
              "      <td>5</td>\n",
              "      <td>6</td>\n",
              "      <td>how can i increase the speed of my internet co...</td>\n",
              "      <td>how can internet speed be increased by hacking...</td>\n",
              "      <td>0</td>\n",
              "      <td>4.0</td>\n",
              "      <td>24.0</td>\n",
              "      <td>0.166667</td>\n",
              "      <td>73</td>\n",
              "      <td>59</td>\n",
              "      <td>14</td>\n",
              "      <td>10</td>\n",
              "      <td>1</td>\n",
              "      <td>1</td>\n",
              "      <td>2</td>\n",
              "      <td>0</td>\n",
              "      <td>0.399992</td>\n",
              "      <td>0.333328</td>\n",
              "      <td>0.399992</td>\n",
              "      <td>0.249997</td>\n",
              "      <td>0.399996</td>\n",
              "      <td>0.285712</td>\n",
              "      <td>0.0</td>\n",
              "      <td>1.0</td>\n",
              "      <td>4.0</td>\n",
              "      <td>12.0</td>\n",
              "      <td>63</td>\n",
              "      <td>63</td>\n",
              "      <td>43</td>\n",
              "      <td>47</td>\n",
              "      <td>0.166667</td>\n",
              "    </tr>\n",
              "    <tr>\n",
              "      <th>3</th>\n",
              "      <td>3</td>\n",
              "      <td>7</td>\n",
              "      <td>8</td>\n",
              "      <td>why am i mentally very lonely  how can i solve...</td>\n",
              "      <td>find the remainder when  math 23  24   math  i...</td>\n",
              "      <td>0</td>\n",
              "      <td>0.0</td>\n",
              "      <td>19.0</td>\n",
              "      <td>0.000000</td>\n",
              "      <td>50</td>\n",
              "      <td>65</td>\n",
              "      <td>11</td>\n",
              "      <td>9</td>\n",
              "      <td>1</td>\n",
              "      <td>1</td>\n",
              "      <td>2</td>\n",
              "      <td>0</td>\n",
              "      <td>0.000000</td>\n",
              "      <td>0.000000</td>\n",
              "      <td>0.000000</td>\n",
              "      <td>0.000000</td>\n",
              "      <td>0.000000</td>\n",
              "      <td>0.000000</td>\n",
              "      <td>0.0</td>\n",
              "      <td>0.0</td>\n",
              "      <td>2.0</td>\n",
              "      <td>12.0</td>\n",
              "      <td>28</td>\n",
              "      <td>24</td>\n",
              "      <td>9</td>\n",
              "      <td>14</td>\n",
              "      <td>0.039216</td>\n",
              "    </tr>\n",
              "    <tr>\n",
              "      <th>4</th>\n",
              "      <td>4</td>\n",
              "      <td>9</td>\n",
              "      <td>10</td>\n",
              "      <td>which one dissolve in water quikly sugar  salt...</td>\n",
              "      <td>which fish would survive in salt water</td>\n",
              "      <td>0</td>\n",
              "      <td>2.0</td>\n",
              "      <td>20.0</td>\n",
              "      <td>0.100000</td>\n",
              "      <td>76</td>\n",
              "      <td>39</td>\n",
              "      <td>13</td>\n",
              "      <td>7</td>\n",
              "      <td>3</td>\n",
              "      <td>1</td>\n",
              "      <td>4</td>\n",
              "      <td>2</td>\n",
              "      <td>0.399992</td>\n",
              "      <td>0.199998</td>\n",
              "      <td>0.999950</td>\n",
              "      <td>0.666644</td>\n",
              "      <td>0.571420</td>\n",
              "      <td>0.307690</td>\n",
              "      <td>0.0</td>\n",
              "      <td>1.0</td>\n",
              "      <td>6.0</td>\n",
              "      <td>10.0</td>\n",
              "      <td>67</td>\n",
              "      <td>47</td>\n",
              "      <td>35</td>\n",
              "      <td>56</td>\n",
              "      <td>0.175000</td>\n",
              "    </tr>\n",
              "  </tbody>\n",
              "</table>\n",
              "</div>"
            ],
            "text/plain": [
              "   id  qid1  qid2  ... fuzz_ratio fuzz_partial_ratio  longest_substr_ratio\n",
              "0   0     1     2  ...         93                100              0.982759\n",
              "1   1     3     4  ...         66                 75              0.596154\n",
              "2   2     5     6  ...         43                 47              0.166667\n",
              "3   3     7     8  ...          9                 14              0.039216\n",
              "4   4     9    10  ...         35                 56              0.175000\n",
              "\n",
              "[5 rows x 32 columns]"
            ]
          },
          "metadata": {
            "tags": []
          },
          "execution_count": 42
        }
      ]
    },
    {
      "cell_type": "code",
      "metadata": {
        "colab": {
          "base_uri": "https://localhost:8080/",
          "height": 635
        },
        "id": "BObrf_E-parH",
        "outputId": "fa1c5515-a00b-47d4-9d26-86d1a0b98fe9"
      },
      "source": [
        "#checking head\n",
        "df_ppro.head()"
      ],
      "execution_count": 43,
      "outputs": [
        {
          "output_type": "execute_result",
          "data": {
            "text/html": [
              "<div>\n",
              "<style scoped>\n",
              "    .dataframe tbody tr th:only-of-type {\n",
              "        vertical-align: middle;\n",
              "    }\n",
              "\n",
              "    .dataframe tbody tr th {\n",
              "        vertical-align: top;\n",
              "    }\n",
              "\n",
              "    .dataframe thead th {\n",
              "        text-align: right;\n",
              "    }\n",
              "</style>\n",
              "<table border=\"1\" class=\"dataframe\">\n",
              "  <thead>\n",
              "    <tr style=\"text-align: right;\">\n",
              "      <th></th>\n",
              "      <th>id</th>\n",
              "      <th>qid1</th>\n",
              "      <th>qid2</th>\n",
              "      <th>question1</th>\n",
              "      <th>question2</th>\n",
              "      <th>is_duplicate</th>\n",
              "      <th>common_word</th>\n",
              "      <th>Total_words</th>\n",
              "      <th>share_words</th>\n",
              "      <th>Q1len</th>\n",
              "      <th>Q2len</th>\n",
              "      <th>Q1_nwords</th>\n",
              "      <th>Q2_nwords</th>\n",
              "      <th>frequency_qid1</th>\n",
              "      <th>frequency_qid2</th>\n",
              "      <th>frequency_q1+q2</th>\n",
              "      <th>frequency_q1-q2</th>\n",
              "    </tr>\n",
              "  </thead>\n",
              "  <tbody>\n",
              "    <tr>\n",
              "      <th>0</th>\n",
              "      <td>0</td>\n",
              "      <td>1</td>\n",
              "      <td>2</td>\n",
              "      <td>What is the step by step guide to invest in sh...</td>\n",
              "      <td>What is the step by step guide to invest in sh...</td>\n",
              "      <td>0</td>\n",
              "      <td>10.0</td>\n",
              "      <td>23.0</td>\n",
              "      <td>0.434783</td>\n",
              "      <td>66</td>\n",
              "      <td>57</td>\n",
              "      <td>14</td>\n",
              "      <td>12</td>\n",
              "      <td>1</td>\n",
              "      <td>1</td>\n",
              "      <td>2</td>\n",
              "      <td>0</td>\n",
              "    </tr>\n",
              "    <tr>\n",
              "      <th>1</th>\n",
              "      <td>1</td>\n",
              "      <td>3</td>\n",
              "      <td>4</td>\n",
              "      <td>What is the story of Kohinoor (Koh-i-Noor) Dia...</td>\n",
              "      <td>What would happen if the Indian government sto...</td>\n",
              "      <td>0</td>\n",
              "      <td>4.0</td>\n",
              "      <td>20.0</td>\n",
              "      <td>0.200000</td>\n",
              "      <td>51</td>\n",
              "      <td>88</td>\n",
              "      <td>8</td>\n",
              "      <td>13</td>\n",
              "      <td>4</td>\n",
              "      <td>1</td>\n",
              "      <td>5</td>\n",
              "      <td>3</td>\n",
              "    </tr>\n",
              "    <tr>\n",
              "      <th>2</th>\n",
              "      <td>2</td>\n",
              "      <td>5</td>\n",
              "      <td>6</td>\n",
              "      <td>How can I increase the speed of my internet co...</td>\n",
              "      <td>How can Internet speed be increased by hacking...</td>\n",
              "      <td>0</td>\n",
              "      <td>4.0</td>\n",
              "      <td>24.0</td>\n",
              "      <td>0.166667</td>\n",
              "      <td>73</td>\n",
              "      <td>59</td>\n",
              "      <td>14</td>\n",
              "      <td>10</td>\n",
              "      <td>1</td>\n",
              "      <td>1</td>\n",
              "      <td>2</td>\n",
              "      <td>0</td>\n",
              "    </tr>\n",
              "    <tr>\n",
              "      <th>3</th>\n",
              "      <td>3</td>\n",
              "      <td>7</td>\n",
              "      <td>8</td>\n",
              "      <td>Why am I mentally very lonely? How can I solve...</td>\n",
              "      <td>Find the remainder when [math]23^{24}[/math] i...</td>\n",
              "      <td>0</td>\n",
              "      <td>0.0</td>\n",
              "      <td>19.0</td>\n",
              "      <td>0.000000</td>\n",
              "      <td>50</td>\n",
              "      <td>65</td>\n",
              "      <td>11</td>\n",
              "      <td>9</td>\n",
              "      <td>1</td>\n",
              "      <td>1</td>\n",
              "      <td>2</td>\n",
              "      <td>0</td>\n",
              "    </tr>\n",
              "    <tr>\n",
              "      <th>4</th>\n",
              "      <td>4</td>\n",
              "      <td>9</td>\n",
              "      <td>10</td>\n",
              "      <td>Which one dissolve in water quikly sugar, salt...</td>\n",
              "      <td>Which fish would survive in salt water?</td>\n",
              "      <td>0</td>\n",
              "      <td>2.0</td>\n",
              "      <td>20.0</td>\n",
              "      <td>0.100000</td>\n",
              "      <td>76</td>\n",
              "      <td>39</td>\n",
              "      <td>13</td>\n",
              "      <td>7</td>\n",
              "      <td>3</td>\n",
              "      <td>1</td>\n",
              "      <td>4</td>\n",
              "      <td>2</td>\n",
              "    </tr>\n",
              "  </tbody>\n",
              "</table>\n",
              "</div>"
            ],
            "text/plain": [
              "   id  qid1  qid2  ... frequency_qid2 frequency_q1+q2  frequency_q1-q2\n",
              "0   0     1     2  ...              1               2                0\n",
              "1   1     3     4  ...              1               5                3\n",
              "2   2     5     6  ...              1               2                0\n",
              "3   3     7     8  ...              1               2                0\n",
              "4   4     9    10  ...              1               4                2\n",
              "\n",
              "[5 rows x 17 columns]"
            ]
          },
          "metadata": {
            "tags": []
          },
          "execution_count": 43
        }
      ]
    },
    {
      "cell_type": "code",
      "metadata": {
        "colab": {
          "base_uri": "https://localhost:8080/",
          "height": 232
        },
        "id": "xT1avQK6pcBk",
        "outputId": "ea3dd259-bea5-46ad-9e80-bfc48a5e48b4"
      },
      "source": [
        "#checking head\n",
        "df1.head()"
      ],
      "execution_count": 44,
      "outputs": [
        {
          "output_type": "execute_result",
          "data": {
            "text/html": [
              "<div>\n",
              "<style scoped>\n",
              "    .dataframe tbody tr th:only-of-type {\n",
              "        vertical-align: middle;\n",
              "    }\n",
              "\n",
              "    .dataframe tbody tr th {\n",
              "        vertical-align: top;\n",
              "    }\n",
              "\n",
              "    .dataframe thead th {\n",
              "        text-align: right;\n",
              "    }\n",
              "</style>\n",
              "<table border=\"1\" class=\"dataframe\">\n",
              "  <thead>\n",
              "    <tr style=\"text-align: right;\">\n",
              "      <th></th>\n",
              "      <th>id</th>\n",
              "      <th>is_duplicate</th>\n",
              "      <th>common_word</th>\n",
              "      <th>Total_words</th>\n",
              "      <th>share_words</th>\n",
              "      <th>Q1len</th>\n",
              "      <th>Q2len</th>\n",
              "      <th>Q1_nwords</th>\n",
              "      <th>Q2_nwords</th>\n",
              "      <th>frequency_qid1</th>\n",
              "      <th>frequency_qid2</th>\n",
              "      <th>frequency_q1+q2</th>\n",
              "      <th>frequency_q1-q2</th>\n",
              "      <th>cwc_min</th>\n",
              "      <th>cwc_max</th>\n",
              "      <th>csc_min</th>\n",
              "      <th>csc_max</th>\n",
              "      <th>ctc_min</th>\n",
              "      <th>ctc_max</th>\n",
              "      <th>last_word_eq</th>\n",
              "      <th>first_word_eq</th>\n",
              "      <th>abs_len_diff</th>\n",
              "      <th>mean_len</th>\n",
              "      <th>token_set_ratio</th>\n",
              "      <th>token_sort_ratio</th>\n",
              "      <th>fuzz_ratio</th>\n",
              "      <th>fuzz_partial_ratio</th>\n",
              "      <th>longest_substr_ratio</th>\n",
              "    </tr>\n",
              "  </thead>\n",
              "  <tbody>\n",
              "    <tr>\n",
              "      <th>0</th>\n",
              "      <td>0</td>\n",
              "      <td>0</td>\n",
              "      <td>10.0</td>\n",
              "      <td>23.0</td>\n",
              "      <td>0.434783</td>\n",
              "      <td>66</td>\n",
              "      <td>57</td>\n",
              "      <td>14</td>\n",
              "      <td>12</td>\n",
              "      <td>1</td>\n",
              "      <td>1</td>\n",
              "      <td>2</td>\n",
              "      <td>0</td>\n",
              "      <td>0.999980</td>\n",
              "      <td>0.833319</td>\n",
              "      <td>0.999983</td>\n",
              "      <td>0.999983</td>\n",
              "      <td>0.916659</td>\n",
              "      <td>0.785709</td>\n",
              "      <td>0.0</td>\n",
              "      <td>1.0</td>\n",
              "      <td>2.0</td>\n",
              "      <td>13.0</td>\n",
              "      <td>100</td>\n",
              "      <td>93</td>\n",
              "      <td>93</td>\n",
              "      <td>100</td>\n",
              "      <td>0.982759</td>\n",
              "    </tr>\n",
              "    <tr>\n",
              "      <th>1</th>\n",
              "      <td>1</td>\n",
              "      <td>0</td>\n",
              "      <td>4.0</td>\n",
              "      <td>20.0</td>\n",
              "      <td>0.200000</td>\n",
              "      <td>51</td>\n",
              "      <td>88</td>\n",
              "      <td>8</td>\n",
              "      <td>13</td>\n",
              "      <td>4</td>\n",
              "      <td>1</td>\n",
              "      <td>5</td>\n",
              "      <td>3</td>\n",
              "      <td>0.799984</td>\n",
              "      <td>0.399996</td>\n",
              "      <td>0.749981</td>\n",
              "      <td>0.599988</td>\n",
              "      <td>0.699993</td>\n",
              "      <td>0.466664</td>\n",
              "      <td>0.0</td>\n",
              "      <td>1.0</td>\n",
              "      <td>5.0</td>\n",
              "      <td>12.5</td>\n",
              "      <td>86</td>\n",
              "      <td>63</td>\n",
              "      <td>66</td>\n",
              "      <td>75</td>\n",
              "      <td>0.596154</td>\n",
              "    </tr>\n",
              "    <tr>\n",
              "      <th>2</th>\n",
              "      <td>2</td>\n",
              "      <td>0</td>\n",
              "      <td>4.0</td>\n",
              "      <td>24.0</td>\n",
              "      <td>0.166667</td>\n",
              "      <td>73</td>\n",
              "      <td>59</td>\n",
              "      <td>14</td>\n",
              "      <td>10</td>\n",
              "      <td>1</td>\n",
              "      <td>1</td>\n",
              "      <td>2</td>\n",
              "      <td>0</td>\n",
              "      <td>0.399992</td>\n",
              "      <td>0.333328</td>\n",
              "      <td>0.399992</td>\n",
              "      <td>0.249997</td>\n",
              "      <td>0.399996</td>\n",
              "      <td>0.285712</td>\n",
              "      <td>0.0</td>\n",
              "      <td>1.0</td>\n",
              "      <td>4.0</td>\n",
              "      <td>12.0</td>\n",
              "      <td>63</td>\n",
              "      <td>63</td>\n",
              "      <td>43</td>\n",
              "      <td>47</td>\n",
              "      <td>0.166667</td>\n",
              "    </tr>\n",
              "    <tr>\n",
              "      <th>3</th>\n",
              "      <td>3</td>\n",
              "      <td>0</td>\n",
              "      <td>0.0</td>\n",
              "      <td>19.0</td>\n",
              "      <td>0.000000</td>\n",
              "      <td>50</td>\n",
              "      <td>65</td>\n",
              "      <td>11</td>\n",
              "      <td>9</td>\n",
              "      <td>1</td>\n",
              "      <td>1</td>\n",
              "      <td>2</td>\n",
              "      <td>0</td>\n",
              "      <td>0.000000</td>\n",
              "      <td>0.000000</td>\n",
              "      <td>0.000000</td>\n",
              "      <td>0.000000</td>\n",
              "      <td>0.000000</td>\n",
              "      <td>0.000000</td>\n",
              "      <td>0.0</td>\n",
              "      <td>0.0</td>\n",
              "      <td>2.0</td>\n",
              "      <td>12.0</td>\n",
              "      <td>28</td>\n",
              "      <td>24</td>\n",
              "      <td>9</td>\n",
              "      <td>14</td>\n",
              "      <td>0.039216</td>\n",
              "    </tr>\n",
              "    <tr>\n",
              "      <th>4</th>\n",
              "      <td>4</td>\n",
              "      <td>0</td>\n",
              "      <td>2.0</td>\n",
              "      <td>20.0</td>\n",
              "      <td>0.100000</td>\n",
              "      <td>76</td>\n",
              "      <td>39</td>\n",
              "      <td>13</td>\n",
              "      <td>7</td>\n",
              "      <td>3</td>\n",
              "      <td>1</td>\n",
              "      <td>4</td>\n",
              "      <td>2</td>\n",
              "      <td>0.399992</td>\n",
              "      <td>0.199998</td>\n",
              "      <td>0.999950</td>\n",
              "      <td>0.666644</td>\n",
              "      <td>0.571420</td>\n",
              "      <td>0.307690</td>\n",
              "      <td>0.0</td>\n",
              "      <td>1.0</td>\n",
              "      <td>6.0</td>\n",
              "      <td>10.0</td>\n",
              "      <td>67</td>\n",
              "      <td>47</td>\n",
              "      <td>35</td>\n",
              "      <td>56</td>\n",
              "      <td>0.175000</td>\n",
              "    </tr>\n",
              "  </tbody>\n",
              "</table>\n",
              "</div>"
            ],
            "text/plain": [
              "   id  is_duplicate  ...  fuzz_partial_ratio  longest_substr_ratio\n",
              "0   0             0  ...                 100              0.982759\n",
              "1   1             0  ...                  75              0.596154\n",
              "2   2             0  ...                  47              0.166667\n",
              "3   3             0  ...                  14              0.039216\n",
              "4   4             0  ...                  56              0.175000\n",
              "\n",
              "[5 rows x 28 columns]"
            ]
          },
          "metadata": {
            "tags": []
          },
          "execution_count": 44
        }
      ]
    },
    {
      "cell_type": "code",
      "metadata": {
        "colab": {
          "base_uri": "https://localhost:8080/"
        },
        "id": "7igS8kDYp4kM",
        "outputId": "f0d75389-0a07-42c2-81d9-2b021515c8f5"
      },
      "source": [
        "print(\"Number of features in nlp dataframe :\", df1.shape[1])"
      ],
      "execution_count": 45,
      "outputs": [
        {
          "output_type": "stream",
          "text": [
            "Number of features in nlp dataframe : 28\n"
          ],
          "name": "stdout"
        }
      ]
    },
    {
      "cell_type": "code",
      "metadata": {
        "colab": {
          "base_uri": "https://localhost:8080/",
          "height": 212
        },
        "id": "QhQz-PCTpdK5",
        "outputId": "40ec6992-f867-49c3-8c0b-683203b495fa"
      },
      "source": [
        "#checking head\n",
        "df2.head()"
      ],
      "execution_count": 46,
      "outputs": [
        {
          "output_type": "execute_result",
          "data": {
            "text/html": [
              "<div>\n",
              "<style scoped>\n",
              "    .dataframe tbody tr th:only-of-type {\n",
              "        vertical-align: middle;\n",
              "    }\n",
              "\n",
              "    .dataframe tbody tr th {\n",
              "        vertical-align: top;\n",
              "    }\n",
              "\n",
              "    .dataframe thead th {\n",
              "        text-align: right;\n",
              "    }\n",
              "</style>\n",
              "<table border=\"1\" class=\"dataframe\">\n",
              "  <thead>\n",
              "    <tr style=\"text-align: right;\">\n",
              "      <th></th>\n",
              "      <th>id</th>\n",
              "      <th>common_word</th>\n",
              "      <th>Total_words</th>\n",
              "      <th>share_words</th>\n",
              "      <th>Q1len</th>\n",
              "      <th>Q2len</th>\n",
              "      <th>Q1_nwords</th>\n",
              "      <th>Q2_nwords</th>\n",
              "      <th>frequency_qid1</th>\n",
              "      <th>frequency_qid2</th>\n",
              "      <th>frequency_q1+q2</th>\n",
              "      <th>frequency_q1-q2</th>\n",
              "    </tr>\n",
              "  </thead>\n",
              "  <tbody>\n",
              "    <tr>\n",
              "      <th>0</th>\n",
              "      <td>0</td>\n",
              "      <td>10.0</td>\n",
              "      <td>23.0</td>\n",
              "      <td>0.434783</td>\n",
              "      <td>66</td>\n",
              "      <td>57</td>\n",
              "      <td>14</td>\n",
              "      <td>12</td>\n",
              "      <td>1</td>\n",
              "      <td>1</td>\n",
              "      <td>2</td>\n",
              "      <td>0</td>\n",
              "    </tr>\n",
              "    <tr>\n",
              "      <th>1</th>\n",
              "      <td>1</td>\n",
              "      <td>4.0</td>\n",
              "      <td>20.0</td>\n",
              "      <td>0.200000</td>\n",
              "      <td>51</td>\n",
              "      <td>88</td>\n",
              "      <td>8</td>\n",
              "      <td>13</td>\n",
              "      <td>4</td>\n",
              "      <td>1</td>\n",
              "      <td>5</td>\n",
              "      <td>3</td>\n",
              "    </tr>\n",
              "    <tr>\n",
              "      <th>2</th>\n",
              "      <td>2</td>\n",
              "      <td>4.0</td>\n",
              "      <td>24.0</td>\n",
              "      <td>0.166667</td>\n",
              "      <td>73</td>\n",
              "      <td>59</td>\n",
              "      <td>14</td>\n",
              "      <td>10</td>\n",
              "      <td>1</td>\n",
              "      <td>1</td>\n",
              "      <td>2</td>\n",
              "      <td>0</td>\n",
              "    </tr>\n",
              "    <tr>\n",
              "      <th>3</th>\n",
              "      <td>3</td>\n",
              "      <td>0.0</td>\n",
              "      <td>19.0</td>\n",
              "      <td>0.000000</td>\n",
              "      <td>50</td>\n",
              "      <td>65</td>\n",
              "      <td>11</td>\n",
              "      <td>9</td>\n",
              "      <td>1</td>\n",
              "      <td>1</td>\n",
              "      <td>2</td>\n",
              "      <td>0</td>\n",
              "    </tr>\n",
              "    <tr>\n",
              "      <th>4</th>\n",
              "      <td>4</td>\n",
              "      <td>2.0</td>\n",
              "      <td>20.0</td>\n",
              "      <td>0.100000</td>\n",
              "      <td>76</td>\n",
              "      <td>39</td>\n",
              "      <td>13</td>\n",
              "      <td>7</td>\n",
              "      <td>3</td>\n",
              "      <td>1</td>\n",
              "      <td>4</td>\n",
              "      <td>2</td>\n",
              "    </tr>\n",
              "  </tbody>\n",
              "</table>\n",
              "</div>"
            ],
            "text/plain": [
              "   id  common_word  ...  frequency_q1+q2  frequency_q1-q2\n",
              "0   0         10.0  ...                2                0\n",
              "1   1          4.0  ...                5                3\n",
              "2   2          4.0  ...                2                0\n",
              "3   3          0.0  ...                2                0\n",
              "4   4          2.0  ...                4                2\n",
              "\n",
              "[5 rows x 12 columns]"
            ]
          },
          "metadata": {
            "tags": []
          },
          "execution_count": 46
        }
      ]
    },
    {
      "cell_type": "code",
      "metadata": {
        "colab": {
          "base_uri": "https://localhost:8080/"
        },
        "id": "h-RJ9m_Lp7Bv",
        "outputId": "429c78ac-a6ca-42f6-c2f4-db6428421c45"
      },
      "source": [
        "print(\"Number of features in preprocessed dataframe :\", df2.shape[1])"
      ],
      "execution_count": 47,
      "outputs": [
        {
          "output_type": "stream",
          "text": [
            "Number of features in preprocessed dataframe : 12\n"
          ],
          "name": "stdout"
        }
      ]
    },
    {
      "cell_type": "code",
      "metadata": {
        "colab": {
          "base_uri": "https://localhost:8080/",
          "height": 195
        },
        "id": "gj6duFEzpeDF",
        "outputId": "c8b1c846-1122-4a8a-e122-c4d7d4abdba1"
      },
      "source": [
        "#checking head\n",
        "df3.head()"
      ],
      "execution_count": 48,
      "outputs": [
        {
          "output_type": "execute_result",
          "data": {
            "text/html": [
              "<div>\n",
              "<style scoped>\n",
              "    .dataframe tbody tr th:only-of-type {\n",
              "        vertical-align: middle;\n",
              "    }\n",
              "\n",
              "    .dataframe tbody tr th {\n",
              "        vertical-align: top;\n",
              "    }\n",
              "\n",
              "    .dataframe thead th {\n",
              "        text-align: right;\n",
              "    }\n",
              "</style>\n",
              "<table border=\"1\" class=\"dataframe\">\n",
              "  <thead>\n",
              "    <tr style=\"text-align: right;\">\n",
              "      <th></th>\n",
              "      <th>id</th>\n",
              "      <th>q1_feats_m</th>\n",
              "      <th>q2_feats_m</th>\n",
              "    </tr>\n",
              "  </thead>\n",
              "  <tbody>\n",
              "    <tr>\n",
              "      <th>0</th>\n",
              "      <td>0</td>\n",
              "      <td>[[-6.179506778717041, 37.45073118805885, -67.9...</td>\n",
              "      <td>[-14.616980731487274, 59.75548753142357, -53.2...</td>\n",
              "    </tr>\n",
              "    <tr>\n",
              "      <th>1</th>\n",
              "      <td>1</td>\n",
              "      <td>[[9.236667931079865, -80.37141644954681, -45.7...</td>\n",
              "      <td>[-3.5657422859221697, -16.844570636749268, -13...</td>\n",
              "    </tr>\n",
              "    <tr>\n",
              "      <th>2</th>\n",
              "      <td>2</td>\n",
              "      <td>[[97.54682850837708, 22.972195133566856, -39.5...</td>\n",
              "      <td>[156.8336295336485, 59.99189615249634, -8.4143...</td>\n",
              "    </tr>\n",
              "    <tr>\n",
              "      <th>3</th>\n",
              "      <td>3</td>\n",
              "      <td>[[57.58699941635132, -22.017087638378143, -4.5...</td>\n",
              "      <td>[41.47243919968605, 56.71731689572334, 31.5306...</td>\n",
              "    </tr>\n",
              "    <tr>\n",
              "      <th>4</th>\n",
              "      <td>4</td>\n",
              "      <td>[[83.1857842206955, -40.50698482990265, -83.40...</td>\n",
              "      <td>[-14.446974992752075, -4.33825546503067, -70.1...</td>\n",
              "    </tr>\n",
              "  </tbody>\n",
              "</table>\n",
              "</div>"
            ],
            "text/plain": [
              "   id  ...                                         q2_feats_m\n",
              "0   0  ...  [-14.616980731487274, 59.75548753142357, -53.2...\n",
              "1   1  ...  [-3.5657422859221697, -16.844570636749268, -13...\n",
              "2   2  ...  [156.8336295336485, 59.99189615249634, -8.4143...\n",
              "3   3  ...  [41.47243919968605, 56.71731689572334, 31.5306...\n",
              "4   4  ...  [-14.446974992752075, -4.33825546503067, -70.1...\n",
              "\n",
              "[5 rows x 3 columns]"
            ]
          },
          "metadata": {
            "tags": []
          },
          "execution_count": 48
        }
      ]
    },
    {
      "cell_type": "code",
      "metadata": {
        "colab": {
          "base_uri": "https://localhost:8080/",
          "height": 195
        },
        "id": "9qKxic9ypm8Q",
        "outputId": "9c3ab59e-5c3e-44ed-e247-3f1936206054"
      },
      "source": [
        "#checking head\n",
        "df3_q1.head()"
      ],
      "execution_count": 49,
      "outputs": [
        {
          "output_type": "execute_result",
          "data": {
            "text/html": [
              "<div>\n",
              "<style scoped>\n",
              "    .dataframe tbody tr th:only-of-type {\n",
              "        vertical-align: middle;\n",
              "    }\n",
              "\n",
              "    .dataframe tbody tr th {\n",
              "        vertical-align: top;\n",
              "    }\n",
              "\n",
              "    .dataframe thead th {\n",
              "        text-align: right;\n",
              "    }\n",
              "</style>\n",
              "<table border=\"1\" class=\"dataframe\">\n",
              "  <thead>\n",
              "    <tr style=\"text-align: right;\">\n",
              "      <th></th>\n",
              "      <th>0</th>\n",
              "    </tr>\n",
              "  </thead>\n",
              "  <tbody>\n",
              "    <tr>\n",
              "      <th>0</th>\n",
              "      <td>[[-6.179506778717041, 37.45073118805885, -67.9...</td>\n",
              "    </tr>\n",
              "    <tr>\n",
              "      <th>1</th>\n",
              "      <td>[[9.236667931079865, -80.37141644954681, -45.7...</td>\n",
              "    </tr>\n",
              "    <tr>\n",
              "      <th>2</th>\n",
              "      <td>[[97.54682850837708, 22.972195133566856, -39.5...</td>\n",
              "    </tr>\n",
              "    <tr>\n",
              "      <th>3</th>\n",
              "      <td>[[57.58699941635132, -22.017087638378143, -4.5...</td>\n",
              "    </tr>\n",
              "    <tr>\n",
              "      <th>4</th>\n",
              "      <td>[[83.1857842206955, -40.50698482990265, -83.40...</td>\n",
              "    </tr>\n",
              "  </tbody>\n",
              "</table>\n",
              "</div>"
            ],
            "text/plain": [
              "                                                   0\n",
              "0  [[-6.179506778717041, 37.45073118805885, -67.9...\n",
              "1  [[9.236667931079865, -80.37141644954681, -45.7...\n",
              "2  [[97.54682850837708, 22.972195133566856, -39.5...\n",
              "3  [[57.58699941635132, -22.017087638378143, -4.5...\n",
              "4  [[83.1857842206955, -40.50698482990265, -83.40..."
            ]
          },
          "metadata": {
            "tags": []
          },
          "execution_count": 49
        }
      ]
    },
    {
      "cell_type": "code",
      "metadata": {
        "colab": {
          "base_uri": "https://localhost:8080/"
        },
        "id": "wBBrQ16cqIap",
        "outputId": "0ed26815-1674-407f-bb83-4ee70ecc8992"
      },
      "source": [
        "print(\"Number of features in question1 w2v  dataframe :\", df3_q1.shape[1])"
      ],
      "execution_count": 50,
      "outputs": [
        {
          "output_type": "stream",
          "text": [
            "Number of features in question1 w2v  dataframe : 1\n"
          ],
          "name": "stdout"
        }
      ]
    },
    {
      "cell_type": "code",
      "metadata": {
        "colab": {
          "base_uri": "https://localhost:8080/",
          "height": 244
        },
        "id": "jYsbmYqLptkj",
        "outputId": "be1c1987-7547-4b6c-aa61-5c1f0570ab42"
      },
      "source": [
        "#checking head\n",
        "df3_q2.head()"
      ],
      "execution_count": 51,
      "outputs": [
        {
          "output_type": "execute_result",
          "data": {
            "text/html": [
              "<div>\n",
              "<style scoped>\n",
              "    .dataframe tbody tr th:only-of-type {\n",
              "        vertical-align: middle;\n",
              "    }\n",
              "\n",
              "    .dataframe tbody tr th {\n",
              "        vertical-align: top;\n",
              "    }\n",
              "\n",
              "    .dataframe thead th {\n",
              "        text-align: right;\n",
              "    }\n",
              "</style>\n",
              "<table border=\"1\" class=\"dataframe\">\n",
              "  <thead>\n",
              "    <tr style=\"text-align: right;\">\n",
              "      <th></th>\n",
              "      <th>0</th>\n",
              "      <th>1</th>\n",
              "      <th>2</th>\n",
              "      <th>3</th>\n",
              "      <th>4</th>\n",
              "      <th>5</th>\n",
              "      <th>6</th>\n",
              "      <th>7</th>\n",
              "      <th>8</th>\n",
              "      <th>9</th>\n",
              "      <th>10</th>\n",
              "      <th>11</th>\n",
              "      <th>12</th>\n",
              "      <th>13</th>\n",
              "      <th>14</th>\n",
              "      <th>15</th>\n",
              "      <th>16</th>\n",
              "      <th>17</th>\n",
              "      <th>18</th>\n",
              "      <th>19</th>\n",
              "      <th>20</th>\n",
              "      <th>21</th>\n",
              "      <th>22</th>\n",
              "      <th>23</th>\n",
              "      <th>24</th>\n",
              "      <th>25</th>\n",
              "      <th>26</th>\n",
              "      <th>27</th>\n",
              "      <th>28</th>\n",
              "      <th>29</th>\n",
              "      <th>30</th>\n",
              "      <th>31</th>\n",
              "      <th>32</th>\n",
              "      <th>33</th>\n",
              "      <th>34</th>\n",
              "      <th>35</th>\n",
              "      <th>36</th>\n",
              "      <th>37</th>\n",
              "      <th>38</th>\n",
              "      <th>39</th>\n",
              "      <th>...</th>\n",
              "      <th>56</th>\n",
              "      <th>57</th>\n",
              "      <th>58</th>\n",
              "      <th>59</th>\n",
              "      <th>60</th>\n",
              "      <th>61</th>\n",
              "      <th>62</th>\n",
              "      <th>63</th>\n",
              "      <th>64</th>\n",
              "      <th>65</th>\n",
              "      <th>66</th>\n",
              "      <th>67</th>\n",
              "      <th>68</th>\n",
              "      <th>69</th>\n",
              "      <th>70</th>\n",
              "      <th>71</th>\n",
              "      <th>72</th>\n",
              "      <th>73</th>\n",
              "      <th>74</th>\n",
              "      <th>75</th>\n",
              "      <th>76</th>\n",
              "      <th>77</th>\n",
              "      <th>78</th>\n",
              "      <th>79</th>\n",
              "      <th>80</th>\n",
              "      <th>81</th>\n",
              "      <th>82</th>\n",
              "      <th>83</th>\n",
              "      <th>84</th>\n",
              "      <th>85</th>\n",
              "      <th>86</th>\n",
              "      <th>87</th>\n",
              "      <th>88</th>\n",
              "      <th>89</th>\n",
              "      <th>90</th>\n",
              "      <th>91</th>\n",
              "      <th>92</th>\n",
              "      <th>93</th>\n",
              "      <th>94</th>\n",
              "      <th>95</th>\n",
              "    </tr>\n",
              "  </thead>\n",
              "  <tbody>\n",
              "    <tr>\n",
              "      <th>0</th>\n",
              "      <td>-14.616981</td>\n",
              "      <td>59.755488</td>\n",
              "      <td>-53.263745</td>\n",
              "      <td>19.514497</td>\n",
              "      <td>113.916473</td>\n",
              "      <td>101.657056</td>\n",
              "      <td>8.561499</td>\n",
              "      <td>66.232769</td>\n",
              "      <td>32.888127</td>\n",
              "      <td>210.812733</td>\n",
              "      <td>-14.521656</td>\n",
              "      <td>5.732026</td>\n",
              "      <td>40.648458</td>\n",
              "      <td>-95.787979</td>\n",
              "      <td>-1.157125</td>\n",
              "      <td>-66.563451</td>\n",
              "      <td>-31.051373</td>\n",
              "      <td>-17.968147</td>\n",
              "      <td>-30.063745</td>\n",
              "      <td>32.889709</td>\n",
              "      <td>65.430540</td>\n",
              "      <td>54.742656</td>\n",
              "      <td>1.756501</td>\n",
              "      <td>27.786168</td>\n",
              "      <td>-46.373962</td>\n",
              "      <td>-25.822312</td>\n",
              "      <td>51.231668</td>\n",
              "      <td>-20.655695</td>\n",
              "      <td>98.152685</td>\n",
              "      <td>-96.048390</td>\n",
              "      <td>126.935466</td>\n",
              "      <td>-28.066691</td>\n",
              "      <td>82.523253</td>\n",
              "      <td>-91.751655</td>\n",
              "      <td>-24.696691</td>\n",
              "      <td>-67.690101</td>\n",
              "      <td>171.840663</td>\n",
              "      <td>-62.797236</td>\n",
              "      <td>-22.777055</td>\n",
              "      <td>-60.322768</td>\n",
              "      <td>...</td>\n",
              "      <td>120.843786</td>\n",
              "      <td>26.592192</td>\n",
              "      <td>-50.285062</td>\n",
              "      <td>114.594113</td>\n",
              "      <td>100.273874</td>\n",
              "      <td>-72.797047</td>\n",
              "      <td>85.467161</td>\n",
              "      <td>42.393031</td>\n",
              "      <td>-18.239859</td>\n",
              "      <td>-103.664753</td>\n",
              "      <td>68.317974</td>\n",
              "      <td>-46.449020</td>\n",
              "      <td>-60.184247</td>\n",
              "      <td>47.269530</td>\n",
              "      <td>-113.987847</td>\n",
              "      <td>10.320980</td>\n",
              "      <td>0.135103</td>\n",
              "      <td>-29.869163</td>\n",
              "      <td>-78.649177</td>\n",
              "      <td>77.262293</td>\n",
              "      <td>131.287160</td>\n",
              "      <td>-123.969027</td>\n",
              "      <td>20.822789</td>\n",
              "      <td>20.718112</td>\n",
              "      <td>38.093118</td>\n",
              "      <td>-85.086696</td>\n",
              "      <td>-61.891319</td>\n",
              "      <td>3.915410</td>\n",
              "      <td>-58.229361</td>\n",
              "      <td>-49.735812</td>\n",
              "      <td>-72.266625</td>\n",
              "      <td>-37.072086</td>\n",
              "      <td>-31.142730</td>\n",
              "      <td>94.064854</td>\n",
              "      <td>-45.053242</td>\n",
              "      <td>-34.155221</td>\n",
              "      <td>-76.548099</td>\n",
              "      <td>99.282776</td>\n",
              "      <td>50.791731</td>\n",
              "      <td>-17.566246</td>\n",
              "    </tr>\n",
              "    <tr>\n",
              "      <th>1</th>\n",
              "      <td>-3.565742</td>\n",
              "      <td>-16.844571</td>\n",
              "      <td>-130.911785</td>\n",
              "      <td>0.320254</td>\n",
              "      <td>79.350278</td>\n",
              "      <td>23.562028</td>\n",
              "      <td>79.124551</td>\n",
              "      <td>84.119839</td>\n",
              "      <td>128.684135</td>\n",
              "      <td>279.539877</td>\n",
              "      <td>51.329233</td>\n",
              "      <td>-47.977027</td>\n",
              "      <td>124.322700</td>\n",
              "      <td>-106.766716</td>\n",
              "      <td>-35.756386</td>\n",
              "      <td>-119.277429</td>\n",
              "      <td>21.692362</td>\n",
              "      <td>79.320570</td>\n",
              "      <td>-30.874480</td>\n",
              "      <td>-86.451965</td>\n",
              "      <td>-75.311001</td>\n",
              "      <td>-10.504030</td>\n",
              "      <td>-54.459205</td>\n",
              "      <td>-82.283126</td>\n",
              "      <td>-122.537507</td>\n",
              "      <td>-23.897150</td>\n",
              "      <td>38.062149</td>\n",
              "      <td>-120.668866</td>\n",
              "      <td>96.555255</td>\n",
              "      <td>-172.800629</td>\n",
              "      <td>71.174992</td>\n",
              "      <td>52.399280</td>\n",
              "      <td>-3.790546</td>\n",
              "      <td>-88.446559</td>\n",
              "      <td>-1.359644</td>\n",
              "      <td>-169.229485</td>\n",
              "      <td>242.162139</td>\n",
              "      <td>-106.348765</td>\n",
              "      <td>-118.454241</td>\n",
              "      <td>-81.356276</td>\n",
              "      <td>...</td>\n",
              "      <td>190.348300</td>\n",
              "      <td>114.510458</td>\n",
              "      <td>-79.321841</td>\n",
              "      <td>-65.284250</td>\n",
              "      <td>-69.147191</td>\n",
              "      <td>-111.427223</td>\n",
              "      <td>18.650104</td>\n",
              "      <td>15.329342</td>\n",
              "      <td>43.115542</td>\n",
              "      <td>31.039919</td>\n",
              "      <td>49.603525</td>\n",
              "      <td>-26.932295</td>\n",
              "      <td>-54.213027</td>\n",
              "      <td>98.597791</td>\n",
              "      <td>-72.848590</td>\n",
              "      <td>87.272756</td>\n",
              "      <td>2.563240</td>\n",
              "      <td>-12.326506</td>\n",
              "      <td>-50.862417</td>\n",
              "      <td>19.058227</td>\n",
              "      <td>180.085690</td>\n",
              "      <td>-79.230389</td>\n",
              "      <td>-49.612403</td>\n",
              "      <td>-2.875509</td>\n",
              "      <td>12.640813</td>\n",
              "      <td>-205.569995</td>\n",
              "      <td>-46.432224</td>\n",
              "      <td>86.927369</td>\n",
              "      <td>2.640828</td>\n",
              "      <td>-2.350201</td>\n",
              "      <td>6.193171</td>\n",
              "      <td>-65.084229</td>\n",
              "      <td>-15.654534</td>\n",
              "      <td>-3.475828</td>\n",
              "      <td>26.999802</td>\n",
              "      <td>170.172613</td>\n",
              "      <td>-57.038953</td>\n",
              "      <td>194.269546</td>\n",
              "      <td>128.207803</td>\n",
              "      <td>55.490061</td>\n",
              "    </tr>\n",
              "    <tr>\n",
              "      <th>2</th>\n",
              "      <td>156.833630</td>\n",
              "      <td>59.991896</td>\n",
              "      <td>-8.414311</td>\n",
              "      <td>29.251426</td>\n",
              "      <td>133.680218</td>\n",
              "      <td>112.457566</td>\n",
              "      <td>89.849781</td>\n",
              "      <td>21.613022</td>\n",
              "      <td>24.331766</td>\n",
              "      <td>171.114490</td>\n",
              "      <td>-104.683288</td>\n",
              "      <td>-27.202060</td>\n",
              "      <td>-45.827002</td>\n",
              "      <td>-96.844532</td>\n",
              "      <td>-12.986917</td>\n",
              "      <td>43.818585</td>\n",
              "      <td>20.793440</td>\n",
              "      <td>15.393396</td>\n",
              "      <td>0.015373</td>\n",
              "      <td>-28.024086</td>\n",
              "      <td>-12.633978</td>\n",
              "      <td>11.869804</td>\n",
              "      <td>-52.478160</td>\n",
              "      <td>-3.826736</td>\n",
              "      <td>8.331102</td>\n",
              "      <td>21.353006</td>\n",
              "      <td>-36.579113</td>\n",
              "      <td>-14.109747</td>\n",
              "      <td>43.868416</td>\n",
              "      <td>-107.133660</td>\n",
              "      <td>125.654210</td>\n",
              "      <td>-0.800086</td>\n",
              "      <td>39.060021</td>\n",
              "      <td>-50.904144</td>\n",
              "      <td>37.683092</td>\n",
              "      <td>-78.781466</td>\n",
              "      <td>122.383833</td>\n",
              "      <td>-67.524980</td>\n",
              "      <td>-107.706957</td>\n",
              "      <td>-19.469239</td>\n",
              "      <td>...</td>\n",
              "      <td>13.483461</td>\n",
              "      <td>-63.411094</td>\n",
              "      <td>40.414527</td>\n",
              "      <td>37.971310</td>\n",
              "      <td>110.463600</td>\n",
              "      <td>-76.722634</td>\n",
              "      <td>-13.193802</td>\n",
              "      <td>38.792827</td>\n",
              "      <td>-49.570232</td>\n",
              "      <td>-142.726638</td>\n",
              "      <td>12.245693</td>\n",
              "      <td>-54.343166</td>\n",
              "      <td>-60.057482</td>\n",
              "      <td>102.482628</td>\n",
              "      <td>3.656340</td>\n",
              "      <td>-21.436032</td>\n",
              "      <td>37.960952</td>\n",
              "      <td>-25.729971</td>\n",
              "      <td>23.332562</td>\n",
              "      <td>9.404027</td>\n",
              "      <td>153.432356</td>\n",
              "      <td>-76.191487</td>\n",
              "      <td>-20.813622</td>\n",
              "      <td>-27.269100</td>\n",
              "      <td>11.735237</td>\n",
              "      <td>-20.692981</td>\n",
              "      <td>-47.580536</td>\n",
              "      <td>42.119569</td>\n",
              "      <td>49.291951</td>\n",
              "      <td>-59.756461</td>\n",
              "      <td>-26.185226</td>\n",
              "      <td>-19.283218</td>\n",
              "      <td>75.602438</td>\n",
              "      <td>24.144027</td>\n",
              "      <td>-91.874398</td>\n",
              "      <td>-178.454113</td>\n",
              "      <td>-91.471482</td>\n",
              "      <td>19.922719</td>\n",
              "      <td>21.266690</td>\n",
              "      <td>49.574858</td>\n",
              "    </tr>\n",
              "    <tr>\n",
              "      <th>3</th>\n",
              "      <td>41.472439</td>\n",
              "      <td>56.717317</td>\n",
              "      <td>31.530616</td>\n",
              "      <td>-5.520164</td>\n",
              "      <td>33.454800</td>\n",
              "      <td>79.596179</td>\n",
              "      <td>15.508996</td>\n",
              "      <td>40.042066</td>\n",
              "      <td>21.094017</td>\n",
              "      <td>101.998116</td>\n",
              "      <td>-70.692718</td>\n",
              "      <td>-62.091010</td>\n",
              "      <td>-21.603829</td>\n",
              "      <td>-52.963033</td>\n",
              "      <td>-6.126429</td>\n",
              "      <td>23.129693</td>\n",
              "      <td>-39.828342</td>\n",
              "      <td>-7.557531</td>\n",
              "      <td>10.800786</td>\n",
              "      <td>12.595844</td>\n",
              "      <td>32.663719</td>\n",
              "      <td>-36.700902</td>\n",
              "      <td>-20.552382</td>\n",
              "      <td>-7.180278</td>\n",
              "      <td>-32.160210</td>\n",
              "      <td>28.720635</td>\n",
              "      <td>-42.108100</td>\n",
              "      <td>-63.517539</td>\n",
              "      <td>36.148466</td>\n",
              "      <td>3.026077</td>\n",
              "      <td>-8.988254</td>\n",
              "      <td>64.167554</td>\n",
              "      <td>33.157036</td>\n",
              "      <td>-21.770225</td>\n",
              "      <td>-14.935299</td>\n",
              "      <td>0.127441</td>\n",
              "      <td>61.023365</td>\n",
              "      <td>-50.604968</td>\n",
              "      <td>-81.644456</td>\n",
              "      <td>-43.092263</td>\n",
              "      <td>...</td>\n",
              "      <td>42.726956</td>\n",
              "      <td>10.111637</td>\n",
              "      <td>15.897465</td>\n",
              "      <td>30.342897</td>\n",
              "      <td>42.910006</td>\n",
              "      <td>-101.291523</td>\n",
              "      <td>30.792590</td>\n",
              "      <td>-33.975097</td>\n",
              "      <td>-68.384557</td>\n",
              "      <td>-21.621304</td>\n",
              "      <td>20.336738</td>\n",
              "      <td>18.368145</td>\n",
              "      <td>-2.009289</td>\n",
              "      <td>46.823555</td>\n",
              "      <td>14.814505</td>\n",
              "      <td>84.138001</td>\n",
              "      <td>59.194556</td>\n",
              "      <td>-36.240492</td>\n",
              "      <td>30.679147</td>\n",
              "      <td>-0.383225</td>\n",
              "      <td>48.515156</td>\n",
              "      <td>-53.941062</td>\n",
              "      <td>-25.314894</td>\n",
              "      <td>-6.555996</td>\n",
              "      <td>-48.458986</td>\n",
              "      <td>-34.730500</td>\n",
              "      <td>24.471891</td>\n",
              "      <td>81.124125</td>\n",
              "      <td>-26.392446</td>\n",
              "      <td>-64.587732</td>\n",
              "      <td>-17.779019</td>\n",
              "      <td>30.152297</td>\n",
              "      <td>49.300137</td>\n",
              "      <td>27.783795</td>\n",
              "      <td>25.937188</td>\n",
              "      <td>-32.107076</td>\n",
              "      <td>-3.817634</td>\n",
              "      <td>-14.231000</td>\n",
              "      <td>4.772115</td>\n",
              "      <td>7.711628</td>\n",
              "    </tr>\n",
              "    <tr>\n",
              "      <th>4</th>\n",
              "      <td>-14.446975</td>\n",
              "      <td>-4.338255</td>\n",
              "      <td>-70.196208</td>\n",
              "      <td>-48.636382</td>\n",
              "      <td>18.356858</td>\n",
              "      <td>-50.807069</td>\n",
              "      <td>24.311196</td>\n",
              "      <td>60.043674</td>\n",
              "      <td>32.421993</td>\n",
              "      <td>57.148702</td>\n",
              "      <td>-39.954876</td>\n",
              "      <td>-1.186079</td>\n",
              "      <td>103.167159</td>\n",
              "      <td>-60.704754</td>\n",
              "      <td>8.761264</td>\n",
              "      <td>27.956269</td>\n",
              "      <td>11.443861</td>\n",
              "      <td>-44.191169</td>\n",
              "      <td>-44.108188</td>\n",
              "      <td>49.248302</td>\n",
              "      <td>18.939539</td>\n",
              "      <td>29.493630</td>\n",
              "      <td>-19.378594</td>\n",
              "      <td>3.728311</td>\n",
              "      <td>-41.595879</td>\n",
              "      <td>6.727060</td>\n",
              "      <td>46.843683</td>\n",
              "      <td>-32.771427</td>\n",
              "      <td>52.378441</td>\n",
              "      <td>-32.777207</td>\n",
              "      <td>73.263024</td>\n",
              "      <td>12.407717</td>\n",
              "      <td>35.007572</td>\n",
              "      <td>-44.449785</td>\n",
              "      <td>-1.699862</td>\n",
              "      <td>-68.783735</td>\n",
              "      <td>-0.925937</td>\n",
              "      <td>-29.173879</td>\n",
              "      <td>-7.726557</td>\n",
              "      <td>-22.204209</td>\n",
              "      <td>...</td>\n",
              "      <td>71.499781</td>\n",
              "      <td>18.965061</td>\n",
              "      <td>-51.951589</td>\n",
              "      <td>143.003627</td>\n",
              "      <td>80.452054</td>\n",
              "      <td>-68.287474</td>\n",
              "      <td>57.275702</td>\n",
              "      <td>36.489817</td>\n",
              "      <td>53.253386</td>\n",
              "      <td>-27.336291</td>\n",
              "      <td>47.700427</td>\n",
              "      <td>-49.834492</td>\n",
              "      <td>-73.123519</td>\n",
              "      <td>55.578373</td>\n",
              "      <td>16.308465</td>\n",
              "      <td>-11.157177</td>\n",
              "      <td>-36.426174</td>\n",
              "      <td>-22.066498</td>\n",
              "      <td>-44.440222</td>\n",
              "      <td>57.068454</td>\n",
              "      <td>105.921980</td>\n",
              "      <td>-47.922645</td>\n",
              "      <td>3.147361</td>\n",
              "      <td>-10.025005</td>\n",
              "      <td>-1.506463</td>\n",
              "      <td>-60.390457</td>\n",
              "      <td>-29.808763</td>\n",
              "      <td>14.704287</td>\n",
              "      <td>-36.376515</td>\n",
              "      <td>-45.781378</td>\n",
              "      <td>36.089472</td>\n",
              "      <td>47.193216</td>\n",
              "      <td>-49.969586</td>\n",
              "      <td>44.796028</td>\n",
              "      <td>39.740803</td>\n",
              "      <td>-33.763309</td>\n",
              "      <td>-98.282341</td>\n",
              "      <td>22.118795</td>\n",
              "      <td>68.802072</td>\n",
              "      <td>21.025373</td>\n",
              "    </tr>\n",
              "  </tbody>\n",
              "</table>\n",
              "<p>5 rows × 96 columns</p>\n",
              "</div>"
            ],
            "text/plain": [
              "           0          1           2   ...          93          94         95\n",
              "0  -14.616981  59.755488  -53.263745  ...   99.282776   50.791731 -17.566246\n",
              "1   -3.565742 -16.844571 -130.911785  ...  194.269546  128.207803  55.490061\n",
              "2  156.833630  59.991896   -8.414311  ...   19.922719   21.266690  49.574858\n",
              "3   41.472439  56.717317   31.530616  ...  -14.231000    4.772115   7.711628\n",
              "4  -14.446975  -4.338255  -70.196208  ...   22.118795   68.802072  21.025373\n",
              "\n",
              "[5 rows x 96 columns]"
            ]
          },
          "metadata": {
            "tags": []
          },
          "execution_count": 51
        }
      ]
    },
    {
      "cell_type": "code",
      "metadata": {
        "colab": {
          "base_uri": "https://localhost:8080/"
        },
        "id": "XjjHjhPLqJ4s",
        "outputId": "a1b4be8b-7a58-4807-da81-8116934960cf"
      },
      "source": [
        "print(\"Number of features in question2 w2v  dataframe :\", df3_q2.shape[1])"
      ],
      "execution_count": 52,
      "outputs": [
        {
          "output_type": "stream",
          "text": [
            "Number of features in question2 w2v  dataframe : 96\n"
          ],
          "name": "stdout"
        }
      ]
    },
    {
      "cell_type": "code",
      "metadata": {
        "colab": {
          "base_uri": "https://localhost:8080/"
        },
        "id": "YpqMecQxqUiP",
        "outputId": "3cae9650-d1d6-403b-f6b6-f68c0fc12b8c"
      },
      "source": [
        "print(\"Number of features in final dataframe  :\", df1.shape[1]+df2.shape[1]+df3_q1.shape[1]+df3_q2.shape[1])"
      ],
      "execution_count": 53,
      "outputs": [
        {
          "output_type": "stream",
          "text": [
            "Number of features in final dataframe  : 137\n"
          ],
          "name": "stdout"
        }
      ]
    },
    {
      "cell_type": "code",
      "metadata": {
        "id": "4Yx-VcyHpwhR"
      },
      "source": [
        "df3_q1['id']=df1['id']\n",
        "df3_q2['id']=df1['id']"
      ],
      "execution_count": 54,
      "outputs": []
    },
    {
      "cell_type": "code",
      "metadata": {
        "id": "WJTvtPGdqkZ6"
      },
      "source": [
        "df1  = df1.merge(df2, on='id',how='left')\n",
        "df2  = df3_q1.merge(df3_q2, on='id',how='left')"
      ],
      "execution_count": 55,
      "outputs": []
    },
    {
      "cell_type": "code",
      "metadata": {
        "id": "R7trRkzpqqWx"
      },
      "source": [
        "result  = df1.merge(df2, on='id',how='left')\n",
        "#saving for fruther use\n",
        "result.to_csv('final_features.csv')"
      ],
      "execution_count": 56,
      "outputs": []
    }
  ]
}